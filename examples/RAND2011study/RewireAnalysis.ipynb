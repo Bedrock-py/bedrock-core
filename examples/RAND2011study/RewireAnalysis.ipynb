{
 "cells": [
  {
   "cell_type": "markdown",
   "metadata": {},
   "source": [
    "# Rand 2011 Cooperation Study\n",
    "\n",
    "This notebook outlines how to recreate the analysis of the Rand et al. 2011 study **\"Dynamic social networks promote cooperation in experiments with humans\"** [Link to Paper](http://humannaturelab.net/wp-content/uploads/2014/10/126-Dynamic-Social-Networks-Promote-Cooperation-in-Experiments-with-Humans.pdf \"Full PDF\")\n",
    "\n",
    "** This workbook focuses on the re-wire analysis workflow portion of the study **\n",
    "\n",
    "### Run the cooperation analysis first for a step by step description of interacting with Bedrock, this workflow uses those concepts to complete the rewire study"
   ]
  },
  {
   "cell_type": "code",
   "execution_count": null,
   "metadata": {
    "collapsed": true
   },
   "outputs": [],
   "source": [
    "from bedrock.client.client import BedrockAPI\n",
    "import requests\n",
    "import pandas\n",
    "import pprint\n",
    "SERVER = \"http://localhost:81/\"\n",
    "api = BedrockAPI(SERVER)"
   ]
  },
  {
   "cell_type": "markdown",
   "metadata": {},
   "source": [
    "### Check for csv file locally\n",
    "\n",
    "The following code opens the file and prints out the first part.  The file must be a csv file with a header that has labels for each column.  The file is comma delimited csv."
   ]
  },
  {
   "cell_type": "code",
   "execution_count": null,
   "metadata": {
    "collapsed": false
   },
   "outputs": [],
   "source": [
    "filepath = 'Rand2011PNAS_rewire_data.csv'\n",
    "datafile = pandas.read_csv('Rand2011PNAS_rewire_data.csv')\n",
    "datafile.head(10)"
   ]
  },
  {
   "cell_type": "code",
   "execution_count": null,
   "metadata": {
    "collapsed": false
   },
   "outputs": [],
   "source": [
    "null_data = datafile[datafile.isnull().any(axis=1)]\n",
    "null_data"
   ]
  },
  {
   "cell_type": "markdown",
   "metadata": {},
   "source": [
    "### Now Upload the source file to the Bedrock Server\n",
    "\n",
    "This code block uses the Spreadsheet ingest module to upload the source file to Bedrock.  ** Note: This simply copies the file to the server, but does not create a Bedrock Matrix format **\n",
    "\n",
    "If the following fails to upload. Check that the csv file is in the correct comma delimited format with headers."
   ]
  },
  {
   "cell_type": "code",
   "execution_count": null,
   "metadata": {
    "collapsed": false,
    "deletable": true,
    "editable": true
   },
   "outputs": [],
   "source": [
    "ingest_id = 'opals.spreadsheet.Spreadsheet.Spreadsheet'\n",
    "resp = api.put_source('Rand2011_rewire', ingest_id, 'default', {'file': open(filepath, \"rb\")})\n",
    "\n",
    "if resp.status_code == 201:\n",
    "    source_id = resp.json()['src_id']\n",
    "    print('Source {0} successfully uploaded'.format(filepath))\n",
    "else:\n",
    "    try:\n",
    "        print(\"Error in Upload: {}\".format(resp.json()['msg']))\n",
    "    except Exception:\n",
    "        pass\n",
    "    \n",
    "    try:\n",
    "        source_id = resp.json()['src_id']\n",
    "        print(\"Using existing source.  If this is not the desired behavior, upload with a different name.\")\n",
    "    except Exception:\n",
    "        print(\"No existing source id provided\")"
   ]
  },
  {
   "cell_type": "markdown",
   "metadata": {},
   "source": [
    "### Create a Bedrock Matrix from the CSV Source\n",
    "\n",
    "In order to use the data, the data source must be converted to a Bedrock matrix.  The following code steps through that process.  Here we are doing a simple transform of csv to matrix.  There are options to apply filters (like renaming columns, excluding colum"
   ]
  },
  {
   "cell_type": "code",
   "execution_count": null,
   "metadata": {
    "collapsed": false,
    "deletable": true,
    "editable": true
   },
   "outputs": [],
   "source": [
    "resp = api.create_matrix(source_id, 'rand_mtx')\n",
    "base_mtx = resp[0]\n",
    "matrix_id = base_mtx['id']\n",
    "base_mtx"
   ]
  },
  {
   "cell_type": "markdown",
   "metadata": {},
   "source": [
    "### Look at basic statistics on the source data\n",
    "\n",
    "Here we can see that Bedrock has computed some basic statistics on the source data.\n",
    "\n",
    "#### For numeric data\n",
    "\n",
    "The quartiles, max, mean, min, and standard deviation are provided\n",
    "\n",
    "#### For non-numeric data\n",
    "\n",
    "The label values and counts for each label are provided.\n",
    "\n",
    "#### For both types\n",
    "\n",
    "The proposed tags and data type that Bedrock is suggesting are provided"
   ]
  },
  {
   "cell_type": "code",
   "execution_count": null,
   "metadata": {
    "collapsed": false
   },
   "outputs": [],
   "source": [
    "analytic_id = \"opals.summarize.Summarize.Summarize\"\n",
    "inputData = {\n",
    "    'matrix.csv': base_mtx,\n",
    "    'features.txt': base_mtx\n",
    "}\n",
    "\n",
    "paramsData = []\n",
    "\n",
    "summary_mtx = api.run_analytic(analytic_id, base_mtx, 'rand_mtx_summary', input_data=inputData, parameter_data=paramsData)\n",
    "output = api.download_results_matrix(summary_mtx['src_id'], summary_mtx['id'], 'matrix.csv')\n",
    "output"
   ]
  },
  {
   "cell_type": "markdown",
   "metadata": {},
   "source": [
    "## Create a filtered matrix where previouslytie==0"
   ]
  },
  {
   "cell_type": "code",
   "execution_count": null,
   "metadata": {
    "collapsed": false
   },
   "outputs": [],
   "source": [
    "analytic_id = \"opals.select-from-dataframe.SelectByCondition.SelectByCondition\"\n",
    "inputData = {\n",
    "    'matrix.csv': base_mtx,\n",
    "    'features.txt': base_mtx\n",
    "}\n",
    "\n",
    "paramsData = [\n",
    "    {\"attrname\":\"colname\",\"value\":\"previouslytie\"},\n",
    "    {\"attrname\":\"comparator\",\"value\":\"==\"},\n",
    "    {\"attrname\":\"value\",\"value\":\"0\"}\n",
    "]\n",
    "\n",
    "filtered_mtx = api.run_analytic(analytic_id, base_mtx, 'prevtie0', input_data=inputData, parameter_data=paramsData)\n",
    "f = api.download_results_matrix(filtered_mtx['src_id'], filtered_mtx['id'], 'matrix.csv', remote_header_file='features.txt')\n",
    "f.head(10)"
   ]
  },
  {
   "cell_type": "markdown",
   "metadata": {},
   "source": [
    "## Look at otherd effect on nowtie\n",
    "\n",
    "** Note we have to remove rows that contain missing values for either our exogenous or endogenous factors or else clustered standard errors will fail **"
   ]
  },
  {
   "cell_type": "code",
   "execution_count": null,
   "metadata": {
    "collapsed": false
   },
   "outputs": [],
   "source": [
    "analytic_id = \"opals.select-from-dataframe.SelectByCondition.SelectByCondition\"\n",
    "inputData = {\n",
    "    'matrix.csv': filtered_mtx,\n",
    "    'features.txt': filtered_mtx\n",
    "}\n",
    "\n",
    "paramsData = [\n",
    "    {\"attrname\":\"colname\",\"value\":\"otherD\"},\n",
    "    {\"attrname\":\"comparator\",\"value\":\"notnull\"},\n",
    "    {\"attrname\":\"value\",\"value\":\"\"}\n",
    "]\n",
    "\n",
    "otherd_mtx = api.run_analytic(analytic_id, filtered_mtx, 'otherD', input_data=inputData, parameter_data=paramsData)"
   ]
  },
  {
   "cell_type": "code",
   "execution_count": null,
   "metadata": {
    "collapsed": false
   },
   "outputs": [],
   "source": [
    "analytic_id = \"opals.logit2.Logit2.Logit2\"\n",
    "inputData = {\n",
    "    'matrix.csv': otherd_mtx,\n",
    "    'features.txt': otherd_mtx\n",
    "}\n",
    "\n",
    "paramsData = [\n",
    "    {\"attrname\":\"formula\",\"value\":\"C(nowtie) ~ C(otherD)\"},\n",
    "    {\"attrname\":\"family\",\"value\":\"binomial\"},\n",
    "    {\"attrname\":\"clustered_rse\",\"value\":\"sessionnum,playerid\"}\n",
    "]\n",
    "\n",
    "result_mtx = api.run_analytic(analytic_id, otherd_mtx, 'rewire_step1', input_data=inputData, parameter_data=paramsData)\n",
    "coef_table = api.download_results_matrix(result_mtx['src_id'], result_mtx['id'], 'matrix.csv')\n",
    "coef_table"
   ]
  },
  {
   "cell_type": "code",
   "execution_count": null,
   "metadata": {
    "collapsed": false
   },
   "outputs": [],
   "source": [
    "summary_table = api.download_results_matrix(result_mtx['src_id'], result_mtx['id'], 'summary.csv')\n",
    "summary_table"
   ]
  },
  {
   "cell_type": "markdown",
   "metadata": {},
   "source": [
    "## Look at otherd and roundnum effect on nowtie\n",
    "\n",
    "** Note we have to remove rows that contain missing values for either our exogenous or endogenous factors or else clustered standard errors will fail **"
   ]
  },
  {
   "cell_type": "code",
   "execution_count": null,
   "metadata": {
    "collapsed": false
   },
   "outputs": [],
   "source": [
    "analytic_id = \"opals.logit2.Logit2.Logit2\"\n",
    "inputData = {\n",
    "    'matrix.csv': otherd_mtx,\n",
    "    'features.txt': otherd_mtx\n",
    "}\n",
    "\n",
    "paramsData = [\n",
    "    {\"attrname\":\"formula\",\"value\":\"C(nowtie) ~ C(otherD) + C(roundnum)\"},\n",
    "    {\"attrname\":\"family\",\"value\":\"binomial\"},\n",
    "    {\"attrname\":\"clustered_rse\",\"value\":\"sessionnum,playerid\"}\n",
    "]\n",
    "\n",
    "result_mtx = api.run_analytic(analytic_id, otherd_mtx, 'rewire_step1', input_data=inputData, parameter_data=paramsData)\n",
    "coef_table = api.download_results_matrix(result_mtx['src_id'], result_mtx['id'], 'matrix.csv')\n",
    "coef_table"
   ]
  },
  {
   "cell_type": "code",
   "execution_count": null,
   "metadata": {
    "collapsed": false
   },
   "outputs": [],
   "source": [
    "summary_table = api.download_results_matrix(result_mtx['src_id'], result_mtx['id'], 'summary.csv')\n",
    "summary_table"
   ]
  },
  {
   "cell_type": "markdown",
   "metadata": {},
   "source": [
    "## Previouslytie == 1"
   ]
  },
  {
   "cell_type": "code",
   "execution_count": null,
   "metadata": {
    "collapsed": false
   },
   "outputs": [],
   "source": [
    "analytic_id = \"opals.select-from-dataframe.SelectByCondition.SelectByCondition\"\n",
    "inputData = {\n",
    "    'matrix.csv': base_mtx,\n",
    "    'features.txt': base_mtx\n",
    "}\n",
    "\n",
    "paramsData = [\n",
    "    {\"attrname\":\"colname\",\"value\":\"previouslytie\"},\n",
    "    {\"attrname\":\"comparator\",\"value\":\"==\"},\n",
    "    {\"attrname\":\"value\",\"value\":\"1\"}\n",
    "]\n",
    "\n",
    "filtered_mtx = api.run_analytic(analytic_id, base_mtx, 'prevtie1', input_data=inputData, parameter_data=paramsData)\n",
    "f = api.download_results_matrix(filtered_mtx['src_id'], filtered_mtx['id'], 'matrix.csv', remote_header_file='features.txt')\n",
    "f.head(10)"
   ]
  },
  {
   "cell_type": "markdown",
   "metadata": {},
   "source": [
    "## Look at otherd effect on nowtie\n",
    "\n",
    "** Note we have to remove rows that contain missing values for either our exogenous or endogenous factors or else clustered standard errors will fail **"
   ]
  },
  {
   "cell_type": "code",
   "execution_count": null,
   "metadata": {
    "collapsed": false
   },
   "outputs": [],
   "source": [
    "analytic_id = \"opals.select-from-dataframe.SelectByCondition.SelectByCondition\"\n",
    "inputData = {\n",
    "    'matrix.csv': filtered_mtx,\n",
    "    'features.txt': filtered_mtx\n",
    "}\n",
    "\n",
    "paramsData = [\n",
    "    {\"attrname\":\"colname\",\"value\":\"otherD\"},\n",
    "    {\"attrname\":\"comparator\",\"value\":\"notnull\"},\n",
    "    {\"attrname\":\"value\",\"value\":\"\"}\n",
    "]\n",
    "\n",
    "otherd_mtx = api.run_analytic(analytic_id, filtered_mtx, 'otherD', input_data=inputData, parameter_data=paramsData)"
   ]
  },
  {
   "cell_type": "code",
   "execution_count": null,
   "metadata": {
    "collapsed": false
   },
   "outputs": [],
   "source": [
    "analytic_id = \"opals.logit2.Logit2.Logit2\"\n",
    "inputData = {\n",
    "    'matrix.csv': otherd_mtx,\n",
    "    'features.txt': otherd_mtx\n",
    "}\n",
    "\n",
    "paramsData = [\n",
    "    {\"attrname\":\"formula\",\"value\":\"C(nowtie) ~ C(otherD)\"},\n",
    "    {\"attrname\":\"family\",\"value\":\"binomial\"},\n",
    "    {\"attrname\":\"clustered_rse\",\"value\":\"sessionnum,playerid\"}\n",
    "]\n",
    "\n",
    "result_mtx = api.run_analytic(analytic_id, otherd_mtx, 'rewire_step1', input_data=inputData, parameter_data=paramsData)\n",
    "coef_table = api.download_results_matrix(result_mtx['src_id'], result_mtx['id'], 'matrix.csv')\n",
    "coef_table"
   ]
  },
  {
   "cell_type": "code",
   "execution_count": null,
   "metadata": {
    "collapsed": false
   },
   "outputs": [],
   "source": [
    "summary_table = api.download_results_matrix(result_mtx['src_id'], result_mtx['id'], 'summary.csv')\n",
    "summary_table"
   ]
  },
  {
   "cell_type": "markdown",
   "metadata": {},
   "source": [
    "## Look at otherd and roundnum effect on nowtie\n",
    "\n",
    "** Note we have to remove rows that contain missing values for either our exogenous or endogenous factors or else clustered standard errors will fail **"
   ]
  },
  {
   "cell_type": "code",
   "execution_count": null,
   "metadata": {
    "collapsed": false
   },
   "outputs": [],
   "source": [
    "analytic_id = \"opals.logit2.Logit2.Logit2\"\n",
    "inputData = {\n",
    "    'matrix.csv': otherd_mtx,\n",
    "    'features.txt': otherd_mtx\n",
    "}\n",
    "\n",
    "paramsData = [\n",
    "    {\"attrname\":\"formula\",\"value\":\"C(nowtie) ~ C(otherD) + C(roundnum)\"},\n",
    "    {\"attrname\":\"family\",\"value\":\"binomial\"},\n",
    "    {\"attrname\":\"clustered_rse\",\"value\":\"sessionnum,playerid\"}\n",
    "]\n",
    "\n",
    "result_mtx = api.run_analytic(analytic_id, otherd_mtx, 'rewire_step1', input_data=inputData, parameter_data=paramsData)\n",
    "coef_table = api.download_results_matrix(result_mtx['src_id'], result_mtx['id'], 'matrix.csv')\n",
    "coef_table"
   ]
  },
  {
   "cell_type": "code",
   "execution_count": null,
   "metadata": {
    "collapsed": false
   },
   "outputs": [],
   "source": [
    "summary_table = api.download_results_matrix(result_mtx['src_id'], result_mtx['id'], 'summary.csv')\n",
    "summary_table"
   ]
  },
  {
   "cell_type": "markdown",
   "metadata": {},
   "source": [
    "## Filter where previouslytie == otherD"
   ]
  },
  {
   "cell_type": "code",
   "execution_count": null,
   "metadata": {
    "collapsed": false
   },
   "outputs": [],
   "source": [
    "analytic_id = \"opals.select-from-dataframe.SelectByComplexCondition.SelectByComplexCondition\"\n",
    "inputData = {\n",
    "    'matrix.csv': base_mtx,\n",
    "    'features.txt': base_mtx\n",
    "}\n",
    "\n",
    "paramsData = [\n",
    "    {\"attrname\":\"condition\",\"value\":\"(previouslytie == otherD)\"}\n",
    "]\n",
    "\n",
    "filtered_mtx = api.run_analytic(analytic_id, base_mtx, 'prevtie1', input_data=inputData, parameter_data=paramsData)\n",
    "f = api.download_results_matrix(filtered_mtx['src_id'], filtered_mtx['id'], 'matrix.csv', remote_header_file='features.txt')\n",
    "f.head(10)"
   ]
  },
  {
   "cell_type": "markdown",
   "metadata": {},
   "source": [
    "## Look at otherd effect on act when prevtie == otherD"
   ]
  },
  {
   "cell_type": "code",
   "execution_count": null,
   "metadata": {
    "collapsed": true
   },
   "outputs": [],
   "source": [
    "analytic_id = \"opals.select-from-dataframe.SelectByCondition.SelectByCondition\"\n",
    "inputData = {\n",
    "    'matrix.csv': filtered_mtx,\n",
    "    'features.txt': filtered_mtx\n",
    "}\n",
    "\n",
    "paramsData = [\n",
    "    {\"attrname\":\"colname\",\"value\":\"otherD\"},\n",
    "    {\"attrname\":\"comparator\",\"value\":\"notnull\"},\n",
    "    {\"attrname\":\"value\",\"value\":\"\"}\n",
    "]\n",
    "\n",
    "otherd_mtx = api.run_analytic(analytic_id, filtered_mtx, 'otherD', input_data=inputData, parameter_data=paramsData)"
   ]
  },
  {
   "cell_type": "code",
   "execution_count": null,
   "metadata": {
    "collapsed": false
   },
   "outputs": [],
   "source": [
    "analytic_id = \"opals.logit2.Logit2.Logit2\"\n",
    "inputData = {\n",
    "    'matrix.csv': otherd_mtx,\n",
    "    'features.txt': otherd_mtx\n",
    "}\n",
    "\n",
    "paramsData = [\n",
    "    {\"attrname\":\"formula\",\"value\":\"C(act) ~ C(otherD)\"},\n",
    "    {\"attrname\":\"family\",\"value\":\"binomial\"},\n",
    "    {\"attrname\":\"clustered_rse\",\"value\":\"\"}\n",
    "]\n",
    "\n",
    "result_mtx = api.run_analytic(analytic_id, otherd_mtx, 'rewire_step1', input_data=inputData, parameter_data=paramsData)\n",
    "coef_table = api.download_results_matrix(result_mtx['src_id'], result_mtx['id'], 'matrix.csv')\n",
    "coef_table"
   ]
  },
  {
   "cell_type": "code",
   "execution_count": null,
   "metadata": {
    "collapsed": false
   },
   "outputs": [],
   "source": [
    "summary_table = api.download_results_matrix(result_mtx['src_id'], result_mtx['id'], 'summary.csv')\n",
    "summary_table"
   ]
  },
  {
   "cell_type": "markdown",
   "metadata": {},
   "source": [
    "## Look at otherD and roundnum effect on act when prevtie == otherD"
   ]
  },
  {
   "cell_type": "code",
   "execution_count": null,
   "metadata": {
    "collapsed": false
   },
   "outputs": [],
   "source": [
    "analytic_id = \"opals.logit2.Logit2.Logit2\"\n",
    "inputData = {\n",
    "    'matrix.csv': otherd_mtx,\n",
    "    'features.txt': otherd_mtx\n",
    "}\n",
    "\n",
    "paramsData = [\n",
    "    {\"attrname\":\"formula\",\"value\":\"C(act) ~ C(otherD) + C(roundnum)\"},\n",
    "    {\"attrname\":\"family\",\"value\":\"binomial\"},\n",
    "    {\"attrname\":\"clustered_rse\",\"value\":\"\"}\n",
    "]\n",
    "\n",
    "result_mtx = api.run_analytic(analytic_id, otherd_mtx, 'rewire_step1', input_data=inputData, parameter_data=paramsData)\n",
    "coef_table = api.download_results_matrix(result_mtx['src_id'], result_mtx['id'], 'matrix.csv')\n",
    "coef_table"
   ]
  },
  {
   "cell_type": "code",
   "execution_count": null,
   "metadata": {
    "collapsed": false
   },
   "outputs": [],
   "source": [
    "summary_table = api.download_results_matrix(result_mtx['src_id'], result_mtx['id'], 'summary.csv')\n",
    "summary_table"
   ]
  },
  {
   "cell_type": "markdown",
   "metadata": {},
   "source": [
    "## Look at CC v CD/DC"
   ]
  },
  {
   "cell_type": "code",
   "execution_count": null,
   "metadata": {
    "collapsed": false
   },
   "outputs": [],
   "source": [
    "analytic_id = \"opals.select-from-dataframe.SelectByComplexCondition.SelectByComplexCondition\"\n",
    "inputData = {\n",
    "    'matrix.csv': base_mtx,\n",
    "    'features.txt': base_mtx\n",
    "}\n",
    "\n",
    "paramsData = [\n",
    "    {\"attrname\":\"condition\",\"value\":'(previouslytie == 1) & ((state==\"CC\") | (state==\"CD\") | (state==\"DC\"))'}\n",
    "]\n",
    "\n",
    "filtered_mtx = api.run_analytic(analytic_id, base_mtx, 'prevtie1', input_data=inputData, parameter_data=paramsData)\n",
    "f = api.download_results_matrix(filtered_mtx['src_id'], filtered_mtx['id'], 'matrix.csv', remote_header_file='features.txt')\n",
    "f.head(10)"
   ]
  },
  {
   "cell_type": "code",
   "execution_count": null,
   "metadata": {
    "collapsed": false
   },
   "outputs": [],
   "source": [
    "analytic_id = \"opals.logit2.Logit2.Logit2\"\n",
    "inputData = {\n",
    "    'matrix.csv': filtered_mtx,\n",
    "    'features.txt': filtered_mtx\n",
    "}\n",
    "\n",
    "paramsData = [\n",
    "    {\"attrname\":\"formula\",\"value\":\"C(break_) ~ C(CC)\"},\n",
    "    {\"attrname\":\"family\",\"value\":\"binomial\"},\n",
    "    {\"attrname\":\"clustered_rse\",\"value\":\"sessionnum,playerid\"}\n",
    "]\n",
    "\n",
    "result_mtx = api.run_analytic(analytic_id, filtered_mtx, 'rewire_step1', input_data=inputData, parameter_data=paramsData)\n",
    "coef_table = api.download_results_matrix(result_mtx['src_id'], result_mtx['id'], 'matrix.csv')\n",
    "coef_table"
   ]
  },
  {
   "cell_type": "code",
   "execution_count": null,
   "metadata": {
    "collapsed": false
   },
   "outputs": [],
   "source": [
    "summary_table = api.download_results_matrix(result_mtx['src_id'], result_mtx['id'], 'summary.csv')\n",
    "summary_table"
   ]
  },
  {
   "cell_type": "markdown",
   "metadata": {},
   "source": [
    "## Look at CC v DD"
   ]
  },
  {
   "cell_type": "code",
   "execution_count": null,
   "metadata": {
    "collapsed": false
   },
   "outputs": [],
   "source": [
    "analytic_id = \"opals.select-from-dataframe.SelectByComplexCondition.SelectByComplexCondition\"\n",
    "inputData = {\n",
    "    'matrix.csv': base_mtx,\n",
    "    'features.txt': base_mtx\n",
    "}\n",
    "\n",
    "paramsData = [\n",
    "    {\"attrname\":\"condition\",\"value\":'(previouslytie == 1) & ((state==\"CC\") | (state==\"DD\"))'}\n",
    "]\n",
    "\n",
    "filtered_mtx = api.run_analytic(analytic_id, base_mtx, 'prevtie1', input_data=inputData, parameter_data=paramsData)\n",
    "f = api.download_results_matrix(filtered_mtx['src_id'], filtered_mtx['id'], 'matrix.csv', remote_header_file='features.txt')\n",
    "f.head(10)"
   ]
  },
  {
   "cell_type": "code",
   "execution_count": null,
   "metadata": {
    "collapsed": false
   },
   "outputs": [],
   "source": [
    "analytic_id = \"opals.logit2.Logit2.Logit2\"\n",
    "inputData = {\n",
    "    'matrix.csv': filtered_mtx,\n",
    "    'features.txt': filtered_mtx\n",
    "}\n",
    "\n",
    "paramsData = [\n",
    "    {\"attrname\":\"formula\",\"value\":\"C(break_) ~ C(CC)\"},\n",
    "    {\"attrname\":\"family\",\"value\":\"binomial\"},\n",
    "    {\"attrname\":\"clustered_rse\",\"value\":\"sessionnum,playerid\"}\n",
    "]\n",
    "\n",
    "result_mtx = api.run_analytic(analytic_id, filtered_mtx, 'rewire_step1', input_data=inputData, parameter_data=paramsData)\n",
    "coef_table = api.download_results_matrix(result_mtx['src_id'], result_mtx['id'], 'matrix.csv')\n",
    "coef_table"
   ]
  },
  {
   "cell_type": "code",
   "execution_count": null,
   "metadata": {
    "collapsed": false
   },
   "outputs": [],
   "source": [
    "summary_table = api.download_results_matrix(result_mtx['src_id'], result_mtx['id'], 'summary.csv')\n",
    "summary_table"
   ]
  },
  {
   "cell_type": "markdown",
   "metadata": {},
   "source": [
    "## Look at DD v CD/DC"
   ]
  },
  {
   "cell_type": "code",
   "execution_count": null,
   "metadata": {
    "collapsed": false
   },
   "outputs": [],
   "source": [
    "analytic_id = \"opals.select-from-dataframe.SelectByComplexCondition.SelectByComplexCondition\"\n",
    "inputData = {\n",
    "    'matrix.csv': base_mtx,\n",
    "    'features.txt': base_mtx\n",
    "}\n",
    "\n",
    "paramsData = [\n",
    "    {\"attrname\":\"condition\",\"value\":'(previouslytie == 1) & ((state==\"DD\") | (state==\"CD\") | (state==\"DC\"))'}\n",
    "]\n",
    "\n",
    "filtered_mtx = api.run_analytic(analytic_id, base_mtx, 'prevtie1', input_data=inputData, parameter_data=paramsData)\n",
    "f = api.download_results_matrix(filtered_mtx['src_id'], filtered_mtx['id'], 'matrix.csv', remote_header_file='features.txt')\n",
    "f.head(10)"
   ]
  },
  {
   "cell_type": "code",
   "execution_count": null,
   "metadata": {
    "collapsed": false
   },
   "outputs": [],
   "source": [
    "analytic_id = \"opals.logit2.Logit2.Logit2\"\n",
    "inputData = {\n",
    "    'matrix.csv': filtered_mtx,\n",
    "    'features.txt': filtered_mtx\n",
    "}\n",
    "\n",
    "paramsData = [\n",
    "    {\"attrname\":\"formula\",\"value\":\"C(break_) ~ C(DD)\"},\n",
    "    {\"attrname\":\"family\",\"value\":\"binomial\"},\n",
    "    {\"attrname\":\"clustered_rse\",\"value\":\"sessionnum,playerid\"}\n",
    "]\n",
    "\n",
    "result_mtx = api.run_analytic(analytic_id, filtered_mtx, 'rewire_step1', input_data=inputData, parameter_data=paramsData)\n",
    "coef_table = api.download_results_matrix(result_mtx['src_id'], result_mtx['id'], 'matrix.csv')\n",
    "coef_table"
   ]
  },
  {
   "cell_type": "code",
   "execution_count": null,
   "metadata": {
    "collapsed": false
   },
   "outputs": [],
   "source": [
    "summary_table = api.download_results_matrix(result_mtx['src_id'], result_mtx['id'], 'summary.csv')\n",
    "summary_table"
   ]
  }
 ],
 "metadata": {
  "kernelspec": {
   "display_name": "Python 3",
   "language": "python",
   "name": "python3"
  },
  "language_info": {
   "codemirror_mode": {
    "name": "ipython",
    "version": 3
   },
   "file_extension": ".py",
   "mimetype": "text/x-python",
   "name": "python",
   "nbconvert_exporter": "python",
   "pygments_lexer": "ipython3",
   "version": "3.5.2"
  }
 },
 "nbformat": 4,
 "nbformat_minor": 2
}
