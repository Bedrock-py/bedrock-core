{
 "cells": [
  {
   "cell_type": "code",
   "execution_count": 1,
   "metadata": {
    "collapsed": false,
    "deletable": true,
    "editable": true
   },
   "outputs": [],
   "source": [
    "# Set up API environment\n",
    "import requests\n",
    "from bedrock.client.client import BedrockAPI\n",
    "SERVER = \"http://localhost:81/\"\n",
    "api = BedrockAPI(SERVER)"
   ]
  },
  {
   "cell_type": "code",
   "execution_count": 5,
   "metadata": {
    "collapsed": false,
    "deletable": true,
    "editable": true
   },
   "outputs": [
    {
     "name": "stdout",
     "output_type": "stream",
     "text": [
      "Source /Users/jpoovey3/Documents/projects/NGSS/strata/bedrock-core/opal-analytics-logit2/Rand2011PNAS_cooperation_data.csv successfully uploaded\n"
     ]
    }
   ],
   "source": [
    "# Upload source file to Bedrock server\n",
    "filepath = '/Users/jpoovey3/Documents/projects/NGSS/strata/bedrock-core/opal-analytics-logit2/Rand2011PNAS_cooperation_data.csv'\n",
    "ingest_id = 'opals.spreadsheet.Spreadsheet.Spreadsheet'\n",
    "resp = api.put_source('Rand2011', ingest_id, 'default', {'file': open(filepath, \"rb\")})\n",
    "if resp.status_code == 201:\n",
    "    print('Source {0} successfully uploaded'.format(filepath))\n",
    "else:\n",
    "    print('Failed to upload {0}'.format(filepath)) "
   ]
  },
  {
   "cell_type": "code",
   "execution_count": 20,
   "metadata": {
    "collapsed": false,
    "deletable": true,
    "editable": true,
    "scrolled": true
   },
   "outputs": [
    {
     "name": "stdout",
     "output_type": "stream",
     "text": [
      "Sources\n",
      "['Rand2011PNAS_cooperation_data']\n"
     ]
    }
   ],
   "source": [
    "available_sources = api.list(\"dataloader\", \"sources\").json()\n",
    "source_id = available_sources[0]['src_id']\n",
    "endpoint = api.endpoint(\"dataloader\", \"sources/%s/explore/\" % source_id)\n",
    "resp = requests.get(endpoint)\n",
    "print(\"Sources\")\n",
    "print([i for i in resp.json().keys()])"
   ]
  },
  {
   "cell_type": "code",
   "execution_count": 22,
   "metadata": {
    "collapsed": false,
    "deletable": true,
    "editable": true
   },
   "outputs": [
    {
     "name": "stdout",
     "output_type": "stream",
     "text": [
      "Matrix successfully created\n"
     ]
    }
   ],
   "source": [
    "# Create new matrix using the source\n",
    "source_name = 'Rand2011PNAS_cooperation_data'\n",
    "matrix_id = 'rand_mtx'\n",
    "matrix_name = 'rand_mtx'\n",
    "feature_list = 'sessionnum,condition,playerid,decision0d1c,previous_decision,round_num,num_neighbors,group_size,fluid_dummy,_Icondition_2,_Icondition_3,_Icondition_4'.split(',')\n",
    "column_types = ['Numeric' for x in feature_list]\n",
    "matrix_filters = dict.fromkeys(feature_list,{})\n",
    "matbody = {\n",
    "    'matrixFeatures': feature_list,\n",
    "    'matrixFeaturesOriginal': feature_list,\n",
    "    'matrixFilters': matrix_filters,\n",
    "    'matrixName': matrix_name,\n",
    "    'matrixTypes': column_types,\n",
    "    'sourceName': source_name\n",
    "}\n",
    "url = api.endpoint(\"dataloader\", \"sources/%s\" % (source_id))\n",
    "resp = requests.post(url, json=matbody)\n",
    "if resp.status_code == 201:\n",
    "    print(\"Matrix successfully created\")\n",
    "    source = resp.json()[0]\n",
    "else:\n",
    "    print(\"Error creating matrix\")"
   ]
  },
  {
   "cell_type": "code",
   "execution_count": 24,
   "metadata": {
    "collapsed": false,
    "deletable": true,
    "editable": true
   },
   "outputs": [
    {
     "name": "stdout",
     "output_type": "stream",
     "text": [
      "Logit2 analysis successful\n"
     ]
    }
   ],
   "source": [
    "# Apply specified analysis to the matrix\n",
    "analytic_id = \"opals.logit2.Logit2.Logit2\"\n",
    "analysis_postdata = {\n",
    "    'inputs': {\n",
    "        'matrix.csv': source,\n",
    "        'features.txt': source\n",
    "    },\n",
    "    'name': 'rand-logit2',\n",
    "    'parameters': [{\"attrname\":\"step\",\"value\":\"11\"}],\n",
    "    'src': [source]\n",
    "}\n",
    "resp = api.post(\"analytics\", \"analytics/%s\" % analytic_id, json=analysis_postdata)\n",
    "result = resp.json()\n",
    "if resp.status_code == 201:\n",
    "    print(\"Logit2 analysis successful\")\n",
    "else:\n",
    "    print(\"Logit2 analysis failed\")\n",
    "    print(result)"
   ]
  },
  {
   "cell_type": "code",
   "execution_count": 27,
   "metadata": {
    "collapsed": false,
    "deletable": true,
    "editable": true
   },
   "outputs": [
    {
     "name": "stdout",
     "output_type": "stream",
     "text": [
      "http://localhost:81/analytics/results/download/cc56dd1f24cf425d96c95759306ecf69/matrix.csv/logit2_result.csv/\n",
      "                    0         1        2        3         4\n",
      "0                      Estimate   StdErr   zValue      Pr_z\n",
      "1         (Intercept)   0.54654  0.17324   3.1549  0.001606\n",
      "2   condition.fRandom  -0.25278  0.24580  -1.0284  0.303758\n",
      "3   condition.fStatic  -0.18475  0.25848  -0.7148  0.474744\n",
      "4  condition.fViscous   0.02031  0.23475   0.0865  0.931056\n",
      "5                          None     None     None      None\n"
     ]
    }
   ],
   "source": [
    "# Download result matrix\n",
    "url = api.endpoint(\"analytics\", \"results/download/%s/%s/%s\" % (result['id'],'matrix.csv','logit2_result.csv'))\n",
    "resp = requests.get(url)\n",
    "print(url)\n",
    "\n",
    "# Display result\n",
    "import pandas\n",
    "print(pandas.DataFrame([x.split(',') for x in resp.text.split(\"\\n\")]))"
   ]
  },
  {
   "cell_type": "code",
   "execution_count": null,
   "metadata": {
    "collapsed": true,
    "deletable": true,
    "editable": true
   },
   "outputs": [],
   "source": []
  },
  {
   "cell_type": "code",
   "execution_count": null,
   "metadata": {
    "collapsed": true,
    "deletable": true,
    "editable": true
   },
   "outputs": [],
   "source": []
  }
 ],
 "metadata": {
  "kernelspec": {
   "display_name": "Python 3",
   "language": "python",
   "name": "python3"
  },
  "language_info": {
   "codemirror_mode": {
    "name": "ipython",
    "version": 3
   },
   "file_extension": ".py",
   "mimetype": "text/x-python",
   "name": "python",
   "nbconvert_exporter": "python",
   "pygments_lexer": "ipython3",
   "version": "3.5.2"
  }
 },
 "nbformat": 4,
 "nbformat_minor": 2
}
